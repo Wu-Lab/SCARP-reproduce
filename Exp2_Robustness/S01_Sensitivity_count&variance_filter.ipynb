{
 "cells": [
  {
   "cell_type": "markdown",
   "id": "8a641751",
   "metadata": {},
   "source": [
    "## Data Preparation: Filter peaks based on variance or counts for SOX10 data and blood2K data."
   ]
  },
  {
   "cell_type": "code",
   "execution_count": 1,
   "id": "0ac824da",
   "metadata": {
    "ExecuteTime": {
     "end_time": "2022-09-12T01:43:32.769166Z",
     "start_time": "2022-09-12T01:43:29.565979Z"
    }
   },
   "outputs": [],
   "source": [
    "import scanpy as sc\n",
    "import numpy as np\n",
    "import pandas as pd\n",
    "import sys\n",
    "sys.path.append('../Scarp/')\n",
    "from data_preprocessing import Mat_normalization\n",
    "import warnings\n",
    "warnings.filterwarnings(\"ignore\")"
   ]
  },
  {
   "cell_type": "markdown",
   "id": "0a9089bb",
   "metadata": {},
   "source": [
    "### 1. Filter according to counts"
   ]
  },
  {
   "cell_type": "code",
   "execution_count": 2,
   "id": "af2b62c3",
   "metadata": {
    "ExecuteTime": {
     "end_time": "2022-09-12T01:43:46.620188Z",
     "start_time": "2022-09-12T01:43:42.786175Z"
    }
   },
   "outputs": [],
   "source": [
    "adata_blood2k = sc.read_h5ad('../Exp1_Benchmark/Processed data/blood2K.h5ad')\n",
    "for filter_cells in np.array([30, 40, 50, 60, 70]):\n",
    "    adata1_blood2k = adata_blood2k.copy()\n",
    "    sc.pp.filter_genes(adata1_blood2k, min_cells=filter_cells)\n",
    "    adata1_blood2k.write('./Processed data/blood2K_filter'+str(filter_cells)+'.h5ad')"
   ]
  },
  {
   "cell_type": "code",
   "execution_count": 3,
   "id": "d8bfb2f8",
   "metadata": {
    "ExecuteTime": {
     "end_time": "2022-09-12T01:44:01.916585Z",
     "start_time": "2022-09-12T01:44:00.884506Z"
    }
   },
   "outputs": [],
   "source": [
    "adata_Sox10KD = sc.read_h5ad('../Exp1_Benchmark/Processed data/Sox10KD.h5ad')\n",
    "for filter_cells in np.array([10, 20, 30, 40, 50]):\n",
    "    adata1_Sox10KD = adata_Sox10KD.copy()\n",
    "    sc.pp.filter_genes(adata1_Sox10KD, min_cells=filter_cells)\n",
    "    adata1_Sox10KD.write('./Processed data/Sox10KD_filter'+str(filter_cells)+'.h5ad')"
   ]
  },
  {
   "cell_type": "markdown",
   "id": "be563b8d",
   "metadata": {},
   "source": [
    "### 2. Filter according to vaiance"
   ]
  },
  {
   "cell_type": "code",
   "execution_count": 4,
   "id": "2fb4d03f",
   "metadata": {
    "ExecuteTime": {
     "end_time": "2022-09-12T01:45:05.568734Z",
     "start_time": "2022-09-12T01:45:05.562734Z"
    }
   },
   "outputs": [],
   "source": [
    "Cells_blood2k = adata_blood2k.obs.index\n",
    "labels_blood2k = adata_blood2k.obs['celltype'].astype('category')\n",
    "\n",
    "sparse_matrix_blood2k = adata_blood2k.X  # sparse matrix"
   ]
  },
  {
   "cell_type": "code",
   "execution_count": 5,
   "id": "26d32ddb",
   "metadata": {
    "ExecuteTime": {
     "end_time": "2022-09-12T01:46:30.265702Z",
     "start_time": "2022-09-12T01:45:55.090673Z"
    }
   },
   "outputs": [],
   "source": [
    "peak_std = np.std(np.array(sparse_matrix_blood2k.todense()), 0)\n",
    "\n",
    "for remove_prop in np.around(np.arange(0.5, 0.91, 0.1), 2):\n",
    "    keep_peak_index = np.where(peak_std >= np.quantile(peak_std, remove_prop))\n",
    "\n",
    "    filter_data_df = pd.DataFrame(index = Cells_blood2k,\n",
    "                                  columns = adata_blood2k.var.index[keep_peak_index])\n",
    "    filter_data = sc.AnnData(filter_data_df)\n",
    "    filter_data.X = sparse_matrix_blood2k.copy()[:, keep_peak_index[0]]\n",
    "    filter_data.var_names_make_unique()\n",
    "    filter_data.obs['celltype'] = labels_blood2k\n",
    "\n",
    "    filter_data.write('./Processed data/blood2k_filter_var' + str(remove_prop) + '.h5ad')"
   ]
  },
  {
   "cell_type": "code",
   "execution_count": 6,
   "id": "60540afe",
   "metadata": {
    "ExecuteTime": {
     "end_time": "2022-09-12T01:46:37.393904Z",
     "start_time": "2022-09-12T01:46:37.388904Z"
    }
   },
   "outputs": [],
   "source": [
    "Cells_Sox10KD = adata_Sox10KD.obs.index\n",
    "labels_Sox10KD = adata_Sox10KD.obs['celltype'].astype('category')\n",
    "\n",
    "sparse_matrix_Sox10KD = adata_Sox10KD.X  # sparse matrix"
   ]
  },
  {
   "cell_type": "code",
   "execution_count": 7,
   "id": "e789756b",
   "metadata": {
    "ExecuteTime": {
     "end_time": "2022-09-12T01:46:49.487261Z",
     "start_time": "2022-09-12T01:46:41.698348Z"
    }
   },
   "outputs": [],
   "source": [
    "peak_std = np.std(np.array(sparse_matrix_Sox10KD.todense()), 0)\n",
    "\n",
    "for remove_prop in np.around(np.arange(0.5, 0.91, 0.1), 2):\n",
    "    keep_peak_index = np.where(peak_std >= np.quantile(peak_std, remove_prop))\n",
    "\n",
    "    filter_data_df = pd.DataFrame(index = Cells_Sox10KD,\n",
    "                                  columns = adata_Sox10KD.var.index[keep_peak_index])\n",
    "    filter_data = sc.AnnData(filter_data_df)\n",
    "    filter_data.X = sparse_matrix_Sox10KD.copy()[:, keep_peak_index[0]]\n",
    "    filter_data.var_names_make_unique()\n",
    "    filter_data.obs['celltype'] = labels_Sox10KD\n",
    "\n",
    "    filter_data.write('./Processed data/Sox10KD_filter_var' + str(remove_prop) + '.h5ad')"
   ]
  }
 ],
 "metadata": {
  "kernelspec": {
   "display_name": "Python 3",
   "language": "python",
   "name": "python3"
  },
  "language_info": {
   "codemirror_mode": {
    "name": "ipython",
    "version": 3
   },
   "file_extension": ".py",
   "mimetype": "text/x-python",
   "name": "python",
   "nbconvert_exporter": "python",
   "pygments_lexer": "ipython3",
   "version": "3.10.13"
  },
  "toc": {
   "base_numbering": 1,
   "nav_menu": {},
   "number_sections": true,
   "sideBar": true,
   "skip_h1_title": false,
   "title_cell": "Table of Contents",
   "title_sidebar": "Contents",
   "toc_cell": false,
   "toc_position": {},
   "toc_section_display": true,
   "toc_window_display": false
  },
  "varInspector": {
   "cols": {
    "lenName": 16,
    "lenType": 16,
    "lenVar": 40
   },
   "kernels_config": {
    "python": {
     "delete_cmd_postfix": "",
     "delete_cmd_prefix": "del ",
     "library": "var_list.py",
     "varRefreshCmd": "print(var_dic_list())"
    },
    "r": {
     "delete_cmd_postfix": ") ",
     "delete_cmd_prefix": "rm(",
     "library": "var_list.r",
     "varRefreshCmd": "cat(var_dic_list()) "
    }
   },
   "types_to_exclude": [
    "module",
    "function",
    "builtin_function_or_method",
    "instance",
    "_Feature"
   ],
   "window_display": false
  }
 },
 "nbformat": 4,
 "nbformat_minor": 5
}
